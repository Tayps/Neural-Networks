{
 "cells": [
  {
   "cell_type": "code",
   "execution_count": 205,
   "id": "5c01e6bb-5990-41d4-b4c6-d7595bc11fc4",
   "metadata": {},
   "outputs": [],
   "source": [
    "import numpy as np\n",
    "import random\n",
    "import os\n"
   ]
  },
  {
   "cell_type": "code",
   "execution_count": 148,
   "id": "82ea4af6-e31a-4e38-ac1d-074b097a64ec",
   "metadata": {},
   "outputs": [],
   "source": [
    "# Create input nodes \n",
    "\n",
    "class brain:\n",
    "    def __init__(self, inputSize = 3, hiddenLayer=[2,2] ,outputSize = 4):\n",
    "        self.inputSize = inputSize\n",
    "        self.hiddenLayer = hiddenLayer\n",
    "        self.outputSize = outputSize\n",
    "        self.weights = []\n",
    "        self.biases = []\n",
    "\n",
    "        # Create array of X element, X = number of input nodes, \n",
    "        # each element of X contains Y sub-element, Y = numer of hidden layer nodes.\n",
    "        # Weights are randomised value about normal distribution multiplied by 0.01\n",
    "        self.weights.append(0.01 * np.random.randn(inputSize, hiddenLayer[0]))\n",
    "\n",
    "        # Create array of 1 element containing Z element. Z = number of nodes in hiddenLayer 1\n",
    "        # Set all biases to 0\n",
    "        self.biases.append(np.zeros((1, hiddenLayer[0])))\n",
    "\n",
    "        # Repeat for every next hiddenLayer    \n",
    "        for i in range(len(hiddenLayer) - 1):\n",
    "            self.weights.append(0.01 * np.random.randn(hiddenLayer[i], hiddenLayer[i+1]))\n",
    "            self.biases.append(np.zeros((1, hiddenLayer[i])))\n",
    "\n",
    "        # Repeat for Last hiddenLayer to output layer\n",
    "        self.weights.append(0.01 * np.random.randn(hiddenLayer[len(hiddenLayer)-1], outputSize))\n",
    "        self.biases.append(np.zeros((1, outputSize)))\n",
    "\n",
    "    def forward(self, inputs):\n",
    "        layers = [inputs]\n",
    "\n",
    "        for i in range(len(self.weights)):\n",
    "            # layers.append(np.dot(layers[-1], self.weights[i]) + self.biases[i])\n",
    "                          \n",
    "        # return layers[-1]\n",
    "\n",
    "            # hiddenOut = np.dot(layers[-1], self.weights[i]) + self.biases[i]\n",
    "            # hiddenOut = np.maximum(0,hiddenOut[-1])\n",
    "            # layers.append(hiddenOut)\n",
    "\n",
    "            if i == len(self.weights) - 1:\n",
    "                finalOut = np.dot(layers[-1], self.weights[i]) + self.biases[i]\n",
    "                finalOut = np.maximum(0,finalOut)\n",
    "                # finalOut = np.exp(layers[-1] - np.max(layers[-1], axis=1, keepdims=True))\n",
    "                # finalOut = finalOut / np.sum(finalOut, axis=1, keepdims=True)\n",
    "                layers.append(finalOut)\n",
    "\n",
    "            else:\n",
    "                hiddenOut = np.dot(layers[-1], self.weights[i]) + self.biases[i]\n",
    "                hiddenOut = np.maximum(0,hiddenOut)\n",
    "                layers.append(hiddenOut[-1])\n",
    "\n",
    "        return layers[-1]\n",
    "                \n",
    "            "
   ]
  },
  {
   "cell_type": "code",
   "execution_count": 147,
   "id": "d15ffb87-e1f0-440f-bbd2-6d5894705fed",
   "metadata": {},
   "outputs": [
    {
     "data": {
      "text/plain": [
       "array([[0., 0., 0., 0.]])"
      ]
     },
     "execution_count": 147,
     "metadata": {},
     "output_type": "execute_result"
    }
   ],
   "source": [
    "b = brain()\n",
    "b.forward([1,2,3])"
   ]
  },
  {
   "cell_type": "code",
   "execution_count": 68,
   "id": "9cb903d1-c124-4f64-aee7-228e9b41910a",
   "metadata": {},
   "outputs": [
    {
     "data": {
      "text/plain": [
       "[array([[-0.00546335,  0.00047544],\n",
       "        [-0.00529412, -0.01119223],\n",
       "        [-0.02512557, -0.0036714 ]]),\n",
       " array([[ 9.64281607e-05, -5.87221330e-03],\n",
       "        [-9.92916515e-03, -1.36239665e-02]]),\n",
       " array([[-0.01389092,  0.02151274, -0.00059421, -0.00644595],\n",
       "        [ 0.0052072 ,  0.01900517, -0.00141854,  0.02034631]])]"
      ]
     },
     "execution_count": 68,
     "metadata": {},
     "output_type": "execute_result"
    }
   ],
   "source": [
    "b.weights\n",
    "# len(b.weights)"
   ]
  },
  {
   "cell_type": "code",
   "execution_count": 87,
   "id": "e1dd1247-66ff-4b03-8279-aabf803cf0d1",
   "metadata": {},
   "outputs": [
    {
     "ename": "AttributeError",
     "evalue": "'function' object has no attribute 'hiddenOut'",
     "output_type": "error",
     "traceback": [
      "\u001b[0;31m---------------------------------------------------------------------------\u001b[0m",
      "\u001b[0;31mAttributeError\u001b[0m                            Traceback (most recent call last)",
      "Cell \u001b[0;32mIn[87], line 1\u001b[0m\n\u001b[0;32m----> 1\u001b[0m \u001b[43mb\u001b[49m\u001b[38;5;241;43m.\u001b[39;49m\u001b[43mforward\u001b[49m\u001b[38;5;241;43m.\u001b[39;49m\u001b[43mhiddenOut\u001b[49m\n",
      "\u001b[0;31mAttributeError\u001b[0m: 'function' object has no attribute 'hiddenOut'"
     ]
    }
   ],
   "source": []
  },
  {
   "cell_type": "code",
   "execution_count": 22,
   "id": "cb33e278-1973-498b-8559-f6a3d323a59a",
   "metadata": {},
   "outputs": [
    {
     "data": {
      "text/plain": [
       "array([[0., 0.]])"
      ]
     },
     "execution_count": 22,
     "metadata": {},
     "output_type": "execute_result"
    }
   ],
   "source": [
    "# Test layer \n",
    "inputSize = 3\n",
    "hiddenLayer=[2,2]\n",
    "outputSize = 4\n",
    "\n",
    "np.random.randn(inputSize, hiddenLayer[0])\n",
    "\n",
    "np.zeros((1, hiddenLayer[0]))"
   ]
  },
  {
   "cell_type": "code",
   "execution_count": 54,
   "id": "18d22ce4-43e6-4601-ba2b-cf971a9b6416",
   "metadata": {},
   "outputs": [
    {
     "name": "stdout",
     "output_type": "stream",
     "text": [
      "0\n"
     ]
    },
    {
     "data": {
      "text/plain": [
       "2"
      ]
     },
     "execution_count": 54,
     "metadata": {},
     "output_type": "execute_result"
    }
   ],
   "source": [
    "for i in range(1):\n",
    "    print(i)\n",
    "\n",
    "len([2,2])"
   ]
  },
  {
   "cell_type": "code",
   "execution_count": 151,
   "id": "b5da3baa-3184-4fab-b82e-ba23b090a1c9",
   "metadata": {},
   "outputs": [
    {
     "data": {
      "text/plain": [
       "array([[0, 1, 1, 0],\n",
       "       [0, 1, 1, 1],\n",
       "       [1, 1, 1, 0],\n",
       "       [1, 1, 1, 1],\n",
       "       [0, 1, 1, 0],\n",
       "       [1, 1, 0, 0],\n",
       "       [1, 1, 1, 1],\n",
       "       [1, 0, 1, 0]])"
      ]
     },
     "execution_count": 151,
     "metadata": {},
     "output_type": "execute_result"
    }
   ],
   "source": [
    "n = np.random.randint(2,size = (8,4))\n",
    "n"
   ]
  },
  {
   "cell_type": "code",
   "execution_count": 172,
   "id": "28b6db2d-f928-4467-b8c4-b5394895c541",
   "metadata": {},
   "outputs": [
    {
     "data": {
      "text/plain": [
       "'[0, 1, 1, 0, 0, 0, 0, 0, 0, 0, 1, 0, 0, 1, 1, 1, 1, 1, 0, 1, 1, 0, 0, 0, 0, 0, 0, 0, 1, 1, 0, 0]'"
      ]
     },
     "execution_count": 172,
     "metadata": {},
     "output_type": "execute_result"
    }
   ],
   "source": [
    "g = []\n",
    "for i in range(32):\n",
    "    g.append(random.randint(0,1))\n",
    "str(g)\n"
   ]
  },
  {
   "cell_type": "code",
   "execution_count": 183,
   "id": "b4792ba8-67dc-43b1-b037-faa32341ef47",
   "metadata": {},
   "outputs": [
    {
     "data": {
      "text/plain": [
       "'e'"
      ]
     },
     "execution_count": 183,
     "metadata": {},
     "output_type": "execute_result"
    }
   ],
   "source": [
    "k = 0b1110\n",
    "hex(k)[2]"
   ]
  },
  {
   "cell_type": "code",
   "execution_count": 528,
   "id": "5c9f00f8-9786-48e6-b899-8525c0da9f28",
   "metadata": {},
   "outputs": [
    {
     "data": {
      "text/plain": [
       "('10001110101101001101010011011110', '8eb4d4de')"
      ]
     },
     "execution_count": 528,
     "metadata": {},
     "output_type": "execute_result"
    }
   ],
   "source": [
    "\n",
    "# def random_hex_string(length=4):\n",
    "#     return os.urandom(length).hex()\n",
    "\n",
    "# print(random_hex_string())\n",
    "r = os.urandom(1).hex()\n",
    "r, int(r,16), format(int(r,16), '08b')\n",
    "\n",
    "i = 0 \n",
    "q = ''\n",
    "a = ''\n",
    "while i < 4:\n",
    "    g = os.urandom(1).hex()\n",
    "    a += g\n",
    "    q += format(int(g,16), '08b')\n",
    "    # q += format(int(os.urandom(1).hex(),16), '08b')\n",
    "    i += 1\n",
    "q, a"
   ]
  },
  {
   "cell_type": "code",
   "execution_count": 459,
   "id": "09b91624-68e8-404b-88fd-5fdf854d4757",
   "metadata": {},
   "outputs": [
    {
     "data": {
      "text/plain": [
       "str"
      ]
     },
     "execution_count": 459,
     "metadata": {},
     "output_type": "execute_result"
    }
   ],
   "source": [
    "format(int(os.urandom(1).hex(),16), '08b')"
   ]
  },
  {
   "cell_type": "code",
   "execution_count": 550,
   "id": "9263e3a1-9329-49cc-a993-8add7e6182a6",
   "metadata": {},
   "outputs": [
    {
     "data": {
      "text/plain": [
       "'e8'"
      ]
     },
     "execution_count": 550,
     "metadata": {},
     "output_type": "execute_result"
    }
   ],
   "source": [
    "os.urandom(1).hex()"
   ]
  }
 ],
 "metadata": {
  "kernelspec": {
   "display_name": "venv",
   "language": "python",
   "name": "venv"
  },
  "language_info": {
   "codemirror_mode": {
    "name": "ipython",
    "version": 3
   },
   "file_extension": ".py",
   "mimetype": "text/x-python",
   "name": "python",
   "nbconvert_exporter": "python",
   "pygments_lexer": "ipython3",
   "version": "3.10.12"
  }
 },
 "nbformat": 4,
 "nbformat_minor": 5
}
