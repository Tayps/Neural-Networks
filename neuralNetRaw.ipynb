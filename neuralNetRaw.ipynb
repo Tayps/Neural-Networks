{
 "cells": [
  {
   "cell_type": "code",
   "execution_count": 1,
   "id": "5c01e6bb-5990-41d4-b4c6-d7595bc11fc4",
   "metadata": {},
   "outputs": [],
   "source": [
    "import numpy as np"
   ]
  },
  {
   "cell_type": "code",
   "execution_count": 59,
   "id": "82ea4af6-e31a-4e38-ac1d-074b097a64ec",
   "metadata": {},
   "outputs": [],
   "source": [
    "# Create input nodes \n",
    "\n",
    "class brain:\n",
    "    def __init__(self, inputSize = 3, hiddenLayer=[2,2] ,outputSize = 4):\n",
    "        self.inputSize = inputSize\n",
    "        self.hiddenLayer = hiddenLayer\n",
    "        self.outputSize = outputSize\n",
    "        self.weights = []\n",
    "        self.biases = []\n",
    "\n",
    "        # Create array of X element, X = number of input nodes, \n",
    "        # each element of X contains Y sub-element, Y = numer of hidden layer nodes.\n",
    "        # Weights are randomised value about normal distribution multiplied by 0.01\n",
    "        self.weights.append(0.01 * np.random.randn(inputSize, hiddenLayer[0]))\n",
    "\n",
    "        # Create array of 1 element containing Z element. Z = number of nodes in hiddenLayer 1\n",
    "        # Set all biases to 0\n",
    "        self.biases.append(np.zeros((1, hiddenLayer[0])))\n",
    "\n",
    "        # Repeat for every next hiddenLayer    \n",
    "        for i in range(len(hiddenLayer) - 1):\n",
    "            self.weights.append(0.01 * np.random.randn(hiddenLayer[i], hiddenLayer[i+1]))\n",
    "            self.biases.append(np.zeros((1, hiddenLayer[i])))\n",
    "\n",
    "        # Repeat for Last hiddenLayer to output layer\n",
    "        self.weights.append(0.01 * np.random.randn(hiddenLayer[len(hiddenLayer)-1], outputSize))\n",
    "        self.biases.append(np.zeros((1, outputSize)))\n",
    "\n",
    "    def forward(self, inputs):\n",
    "        layers = [inputs]\n",
    "\n",
    "        for i in range(len(self.weights)):\n",
    "            layers.append(np.dot(layers[-1], self.weights[i]) + self.biases[i])\n",
    "                          \n",
    "        return layers[-1]"
   ]
  },
  {
   "cell_type": "code",
   "execution_count": 60,
   "id": "d15ffb87-e1f0-440f-bbd2-6d5894705fed",
   "metadata": {},
   "outputs": [
    {
     "data": {
      "text/plain": [
       "array([[ 3.59775158e-06, -5.00979784e-06, -4.71902598e-06,\n",
       "        -1.67280425e-07]])"
      ]
     },
     "execution_count": 60,
     "metadata": {},
     "output_type": "execute_result"
    }
   ],
   "source": [
    "b = brain()\n",
    "b.forward([1,2,3])"
   ]
  },
  {
   "cell_type": "code",
   "execution_count": 58,
   "id": "9cb903d1-c124-4f64-aee7-228e9b41910a",
   "metadata": {},
   "outputs": [
    {
     "data": {
      "text/plain": [
       "[array([[ 0.00758943, -0.00016988],\n",
       "        [-0.00227374, -0.0005487 ],\n",
       "        [ 0.02822207,  0.00310799]]),\n",
       " array([[-0.0044317 , -0.01005893],\n",
       "        [ 0.01347248, -0.01092822]]),\n",
       " array([[-0.00535187,  0.01035653, -0.00248091, -0.0054975 ],\n",
       "        [ 0.01325831,  0.00226682, -0.0048423 , -0.00344108]])]"
      ]
     },
     "execution_count": 58,
     "metadata": {},
     "output_type": "execute_result"
    }
   ],
   "source": [
    "b.weights"
   ]
  },
  {
   "cell_type": "code",
   "execution_count": 22,
   "id": "cb33e278-1973-498b-8559-f6a3d323a59a",
   "metadata": {},
   "outputs": [
    {
     "data": {
      "text/plain": [
       "array([[0., 0.]])"
      ]
     },
     "execution_count": 22,
     "metadata": {},
     "output_type": "execute_result"
    }
   ],
   "source": [
    "# Test layer \n",
    "inputSize = 3\n",
    "hiddenLayer=[2,2]\n",
    "outputSize = 4\n",
    "\n",
    "np.random.randn(inputSize, hiddenLayer[0])\n",
    "\n",
    "np.zeros((1, hiddenLayer[0]))"
   ]
  },
  {
   "cell_type": "code",
   "execution_count": 54,
   "id": "18d22ce4-43e6-4601-ba2b-cf971a9b6416",
   "metadata": {},
   "outputs": [
    {
     "name": "stdout",
     "output_type": "stream",
     "text": [
      "0\n"
     ]
    },
    {
     "data": {
      "text/plain": [
       "2"
      ]
     },
     "execution_count": 54,
     "metadata": {},
     "output_type": "execute_result"
    }
   ],
   "source": [
    "for i in range(1):\n",
    "    print(i)\n",
    "\n",
    "len([2,2])"
   ]
  }
 ],
 "metadata": {
  "kernelspec": {
   "display_name": "venv",
   "language": "python",
   "name": "venv"
  },
  "language_info": {
   "codemirror_mode": {
    "name": "ipython",
    "version": 3
   },
   "file_extension": ".py",
   "mimetype": "text/x-python",
   "name": "python",
   "nbconvert_exporter": "python",
   "pygments_lexer": "ipython3",
   "version": "3.10.12"
  }
 },
 "nbformat": 4,
 "nbformat_minor": 5
}
